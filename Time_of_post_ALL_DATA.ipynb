{
 "cells": [
  {
   "cell_type": "code",
   "execution_count": 1,
   "metadata": {
    "scrolled": true
   },
   "outputs": [],
   "source": [
    "import pickle\n",
    "import datetime as dt\n",
    "import pandas as pd\n",
    "import numpy as np\n",
    "import glob, os\n",
    "import re\n",
    "import json\n",
    "import plotly\n",
    "import plotly.plotly as py\n",
    "import plotly.graph_objs as go\n",
    "import matplotlib.pyplot as plt\n",
    "import seaborn as sns"
   ]
  },
  {
   "cell_type": "code",
   "execution_count": 2,
   "metadata": {},
   "outputs": [],
   "source": [
    "###READING BIPOLAR DATA\n",
    "bipolar_data = pd.read_pickle(\"/Users/tanjakemper/Documents/Bipolar Project/datasets/bipolar_data/bipolar_data_all_tweets.pkl\", compression='infer')"
   ]
  },
  {
   "cell_type": "code",
   "execution_count": 3,
   "metadata": {
    "scrolled": true
   },
   "outputs": [
    {
     "data": {
      "text/html": [
       "<div>\n",
       "<style scoped>\n",
       "    .dataframe tbody tr th:only-of-type {\n",
       "        vertical-align: middle;\n",
       "    }\n",
       "\n",
       "    .dataframe tbody tr th {\n",
       "        vertical-align: top;\n",
       "    }\n",
       "\n",
       "    .dataframe thead th {\n",
       "        text-align: right;\n",
       "    }\n",
       "</style>\n",
       "<table border=\"1\" class=\"dataframe\">\n",
       "  <thead>\n",
       "    <tr style=\"text-align: right;\">\n",
       "      <th></th>\n",
       "      <th>id</th>\n",
       "      <th>is_control</th>\n",
       "      <th>created_at</th>\n",
       "      <th>full_text</th>\n",
       "    </tr>\n",
       "  </thead>\n",
       "  <tbody>\n",
       "    <tr>\n",
       "      <th>0</th>\n",
       "      <td>1039634572034678784</td>\n",
       "      <td>0</td>\n",
       "      <td>2018-11-17 02:29:33</td>\n",
       "      <td>Sorry, didn't mean to rant.</td>\n",
       "    </tr>\n",
       "    <tr>\n",
       "      <th>1</th>\n",
       "      <td>1039634572034678784</td>\n",
       "      <td>0</td>\n",
       "      <td>2018-11-17 02:28:34</td>\n",
       "      <td>Like, I had heart surgery but obviously my pri...</td>\n",
       "    </tr>\n",
       "    <tr>\n",
       "      <th>2</th>\n",
       "      <td>1039634572034678784</td>\n",
       "      <td>0</td>\n",
       "      <td>2018-11-17 02:27:02</td>\n",
       "      <td>Tbh part of the reason for dropping out is tha...</td>\n",
       "    </tr>\n",
       "    <tr>\n",
       "      <th>3</th>\n",
       "      <td>1039634572034678784</td>\n",
       "      <td>0</td>\n",
       "      <td>2018-11-17 02:25:24</td>\n",
       "      <td>I've been talking with my case worker about go...</td>\n",
       "    </tr>\n",
       "    <tr>\n",
       "      <th>4</th>\n",
       "      <td>1039634572034678784</td>\n",
       "      <td>0</td>\n",
       "      <td>2018-11-17 02:23:17</td>\n",
       "      <td>Basically mental and physical stuff have made ...</td>\n",
       "    </tr>\n",
       "    <tr>\n",
       "      <th>5</th>\n",
       "      <td>1039634572034678784</td>\n",
       "      <td>0</td>\n",
       "      <td>2018-11-17 02:21:04</td>\n",
       "      <td>I've also been having a rough time with my men...</td>\n",
       "    </tr>\n",
       "    <tr>\n",
       "      <th>6</th>\n",
       "      <td>1039634572034678784</td>\n",
       "      <td>0</td>\n",
       "      <td>2018-11-17 02:19:28</td>\n",
       "      <td>Apologies for not posting much; at the beginni...</td>\n",
       "    </tr>\n",
       "    <tr>\n",
       "      <th>7</th>\n",
       "      <td>1039634572034678784</td>\n",
       "      <td>0</td>\n",
       "      <td>2018-09-15 00:34:01</td>\n",
       "      <td>Working on a walk cycle for Animation class ht...</td>\n",
       "    </tr>\n",
       "    <tr>\n",
       "      <th>8</th>\n",
       "      <td>1039634572034678784</td>\n",
       "      <td>0</td>\n",
       "      <td>2018-09-11 22:12:33</td>\n",
       "      <td>And my current icon, my awkward fish boy, Curt...</td>\n",
       "    </tr>\n",
       "    <tr>\n",
       "      <th>9</th>\n",
       "      <td>1039634572034678784</td>\n",
       "      <td>0</td>\n",
       "      <td>2018-09-11 22:11:51</td>\n",
       "      <td>Take 2 of uploading my header image, one of my...</td>\n",
       "    </tr>\n",
       "  </tbody>\n",
       "</table>\n",
       "</div>"
      ],
      "text/plain": [
       "                    id  is_control          created_at  \\\n",
       "0  1039634572034678784           0 2018-11-17 02:29:33   \n",
       "1  1039634572034678784           0 2018-11-17 02:28:34   \n",
       "2  1039634572034678784           0 2018-11-17 02:27:02   \n",
       "3  1039634572034678784           0 2018-11-17 02:25:24   \n",
       "4  1039634572034678784           0 2018-11-17 02:23:17   \n",
       "5  1039634572034678784           0 2018-11-17 02:21:04   \n",
       "6  1039634572034678784           0 2018-11-17 02:19:28   \n",
       "7  1039634572034678784           0 2018-09-15 00:34:01   \n",
       "8  1039634572034678784           0 2018-09-11 22:12:33   \n",
       "9  1039634572034678784           0 2018-09-11 22:11:51   \n",
       "\n",
       "                                           full_text  \n",
       "0                        Sorry, didn't mean to rant.  \n",
       "1  Like, I had heart surgery but obviously my pri...  \n",
       "2  Tbh part of the reason for dropping out is tha...  \n",
       "3  I've been talking with my case worker about go...  \n",
       "4  Basically mental and physical stuff have made ...  \n",
       "5  I've also been having a rough time with my men...  \n",
       "6  Apologies for not posting much; at the beginni...  \n",
       "7  Working on a walk cycle for Animation class ht...  \n",
       "8  And my current icon, my awkward fish boy, Curt...  \n",
       "9  Take 2 of uploading my header image, one of my...  "
      ]
     },
     "execution_count": 3,
     "metadata": {},
     "output_type": "execute_result"
    }
   ],
   "source": [
    "bipolar_data.head(10)"
   ]
  },
  {
   "cell_type": "code",
   "execution_count": 4,
   "metadata": {},
   "outputs": [
    {
     "data": {
      "text/plain": [
       "id                    object\n",
       "is_control             int64\n",
       "created_at    datetime64[ns]\n",
       "full_text             object\n",
       "dtype: object"
      ]
     },
     "execution_count": 4,
     "metadata": {},
     "output_type": "execute_result"
    }
   ],
   "source": [
    "bipolar_data.dtypes"
   ]
  },
  {
   "cell_type": "code",
   "execution_count": 8,
   "metadata": {},
   "outputs": [],
   "source": [
    "control_data = pd.read_pickle(\"/Users/tanjakemper/Documents/Bipolar Project/datasets/control_data/1/control_data_all_tweets.pkl\", compression='infer')\n"
   ]
  },
  {
   "cell_type": "code",
   "execution_count": 9,
   "metadata": {},
   "outputs": [
    {
     "data": {
      "text/html": [
       "<div>\n",
       "<style scoped>\n",
       "    .dataframe tbody tr th:only-of-type {\n",
       "        vertical-align: middle;\n",
       "    }\n",
       "\n",
       "    .dataframe tbody tr th {\n",
       "        vertical-align: top;\n",
       "    }\n",
       "\n",
       "    .dataframe thead th {\n",
       "        text-align: right;\n",
       "    }\n",
       "</style>\n",
       "<table border=\"1\" class=\"dataframe\">\n",
       "  <thead>\n",
       "    <tr style=\"text-align: right;\">\n",
       "      <th></th>\n",
       "      <th>id</th>\n",
       "      <th>is_control</th>\n",
       "      <th>created_at</th>\n",
       "      <th>full_text</th>\n",
       "    </tr>\n",
       "  </thead>\n",
       "  <tbody>\n",
       "    <tr>\n",
       "      <th>0</th>\n",
       "      <td>185501402</td>\n",
       "      <td>1</td>\n",
       "      <td>2019-04-18 07:13:47</td>\n",
       "      <td>RT @menghanyurkan: let’s confuse kids nowadays...</td>\n",
       "    </tr>\n",
       "    <tr>\n",
       "      <th>1</th>\n",
       "      <td>185501402</td>\n",
       "      <td>1</td>\n",
       "      <td>2019-04-17 04:04:24</td>\n",
       "      <td>RT @awwe_: Ok PSI u got my vote. Good luck.</td>\n",
       "    </tr>\n",
       "    <tr>\n",
       "      <th>2</th>\n",
       "      <td>185501402</td>\n",
       "      <td>1</td>\n",
       "      <td>2019-03-31 17:33:40</td>\n",
       "      <td>RT @LFC: This TEAM 🔴🔴 https://t.co/MTfxRUnenK</td>\n",
       "    </tr>\n",
       "    <tr>\n",
       "      <th>3</th>\n",
       "      <td>185501402</td>\n",
       "      <td>1</td>\n",
       "      <td>2019-03-31 17:33:29</td>\n",
       "      <td>RT @LFC: Up the Reds 🙌🔴 https://t.co/1dLVql61sz</td>\n",
       "    </tr>\n",
       "    <tr>\n",
       "      <th>4</th>\n",
       "      <td>185501402</td>\n",
       "      <td>1</td>\n",
       "      <td>2019-03-31 17:32:51</td>\n",
       "      <td>RT @LFCUSA: Boston, they can hear you all the ...</td>\n",
       "    </tr>\n",
       "    <tr>\n",
       "      <th>5</th>\n",
       "      <td>185501402</td>\n",
       "      <td>1</td>\n",
       "      <td>2019-03-30 03:34:21</td>\n",
       "      <td>RT @BRGaming: FIFA legend @F2Tekkz keeps makin...</td>\n",
       "    </tr>\n",
       "    <tr>\n",
       "      <th>6</th>\n",
       "      <td>185501402</td>\n",
       "      <td>1</td>\n",
       "      <td>2018-04-13 11:43:15</td>\n",
       "      <td>RT @ASRomaEN: We’ll be opponents for 180 minut...</td>\n",
       "    </tr>\n",
       "    <tr>\n",
       "      <th>7</th>\n",
       "      <td>185501402</td>\n",
       "      <td>1</td>\n",
       "      <td>2016-05-18 11:52:16</td>\n",
       "      <td>new balance derby in final #YNWA</td>\n",
       "    </tr>\n",
       "    <tr>\n",
       "      <th>8</th>\n",
       "      <td>185501402</td>\n",
       "      <td>1</td>\n",
       "      <td>2016-03-20 15:12:03</td>\n",
       "      <td>yook liverpool :(</td>\n",
       "    </tr>\n",
       "    <tr>\n",
       "      <th>9</th>\n",
       "      <td>185501402</td>\n",
       "      <td>1</td>\n",
       "      <td>2016-02-11 15:21:40</td>\n",
       "      <td>@bintangbete ge,kemal,ernest,boy willian #Comi...</td>\n",
       "    </tr>\n",
       "  </tbody>\n",
       "</table>\n",
       "</div>"
      ],
      "text/plain": [
       "          id  is_control          created_at  \\\n",
       "0  185501402           1 2019-04-18 07:13:47   \n",
       "1  185501402           1 2019-04-17 04:04:24   \n",
       "2  185501402           1 2019-03-31 17:33:40   \n",
       "3  185501402           1 2019-03-31 17:33:29   \n",
       "4  185501402           1 2019-03-31 17:32:51   \n",
       "5  185501402           1 2019-03-30 03:34:21   \n",
       "6  185501402           1 2018-04-13 11:43:15   \n",
       "7  185501402           1 2016-05-18 11:52:16   \n",
       "8  185501402           1 2016-03-20 15:12:03   \n",
       "9  185501402           1 2016-02-11 15:21:40   \n",
       "\n",
       "                                           full_text  \n",
       "0  RT @menghanyurkan: let’s confuse kids nowadays...  \n",
       "1        RT @awwe_: Ok PSI u got my vote. Good luck.  \n",
       "2      RT @LFC: This TEAM 🔴🔴 https://t.co/MTfxRUnenK  \n",
       "3    RT @LFC: Up the Reds 🙌🔴 https://t.co/1dLVql61sz  \n",
       "4  RT @LFCUSA: Boston, they can hear you all the ...  \n",
       "5  RT @BRGaming: FIFA legend @F2Tekkz keeps makin...  \n",
       "6  RT @ASRomaEN: We’ll be opponents for 180 minut...  \n",
       "7                   new balance derby in final #YNWA  \n",
       "8                                  yook liverpool :(  \n",
       "9  @bintangbete ge,kemal,ernest,boy willian #Comi...  "
      ]
     },
     "execution_count": 9,
     "metadata": {},
     "output_type": "execute_result"
    }
   ],
   "source": [
    "control_data.head(10)"
   ]
  },
  {
   "cell_type": "code",
   "execution_count": 10,
   "metadata": {},
   "outputs": [
    {
     "data": {
      "text/plain": [
       "id                    object\n",
       "is_control             int64\n",
       "created_at    datetime64[ns]\n",
       "full_text             object\n",
       "dtype: object"
      ]
     },
     "execution_count": 10,
     "metadata": {},
     "output_type": "execute_result"
    }
   ],
   "source": [
    "control_data.dtypes"
   ]
  },
  {
   "cell_type": "code",
   "execution_count": 11,
   "metadata": {},
   "outputs": [
    {
     "data": {
      "text/html": [
       "<div>\n",
       "<style scoped>\n",
       "    .dataframe tbody tr th:only-of-type {\n",
       "        vertical-align: middle;\n",
       "    }\n",
       "\n",
       "    .dataframe tbody tr th {\n",
       "        vertical-align: top;\n",
       "    }\n",
       "\n",
       "    .dataframe thead th {\n",
       "        text-align: right;\n",
       "    }\n",
       "</style>\n",
       "<table border=\"1\" class=\"dataframe\">\n",
       "  <thead>\n",
       "    <tr style=\"text-align: right;\">\n",
       "      <th></th>\n",
       "      <th>id</th>\n",
       "      <th>is_control</th>\n",
       "      <th>created_at</th>\n",
       "      <th>full_text</th>\n",
       "      <th>hour</th>\n",
       "      <th>minute</th>\n",
       "    </tr>\n",
       "  </thead>\n",
       "  <tbody>\n",
       "    <tr>\n",
       "      <th>2952528</th>\n",
       "      <td>302854411</td>\n",
       "      <td>1</td>\n",
       "      <td>2019-02-18 19:12:44</td>\n",
       "      <td>@RoyalKenyah My Strawberry will come and say i...</td>\n",
       "      <td>19</td>\n",
       "      <td>12</td>\n",
       "    </tr>\n",
       "    <tr>\n",
       "      <th>1640827</th>\n",
       "      <td>1728285067</td>\n",
       "      <td>1</td>\n",
       "      <td>2018-01-29 12:03:56</td>\n",
       "      <td>I wish I wasn't broke so I could play monster ...</td>\n",
       "      <td>12</td>\n",
       "      <td>3</td>\n",
       "    </tr>\n",
       "    <tr>\n",
       "      <th>2077996</th>\n",
       "      <td>545010449</td>\n",
       "      <td>1</td>\n",
       "      <td>2013-09-16 11:16:08</td>\n",
       "      <td>The longest river in the world is the Nile Riv...</td>\n",
       "      <td>11</td>\n",
       "      <td>16</td>\n",
       "    </tr>\n",
       "    <tr>\n",
       "      <th>2934199</th>\n",
       "      <td>541157654</td>\n",
       "      <td>1</td>\n",
       "      <td>2015-02-18 22:16:29</td>\n",
       "      <td>@matthewmcvey Yea that's cool</td>\n",
       "      <td>22</td>\n",
       "      <td>16</td>\n",
       "    </tr>\n",
       "    <tr>\n",
       "      <th>2637216</th>\n",
       "      <td>63323676</td>\n",
       "      <td>1</td>\n",
       "      <td>2017-05-22 19:32:13</td>\n",
       "      <td>RT @TeamRocket: Retweet if you find Ditto http...</td>\n",
       "      <td>19</td>\n",
       "      <td>32</td>\n",
       "    </tr>\n",
       "  </tbody>\n",
       "</table>\n",
       "</div>"
      ],
      "text/plain": [
       "                 id  is_control          created_at  \\\n",
       "2952528   302854411           1 2019-02-18 19:12:44   \n",
       "1640827  1728285067           1 2018-01-29 12:03:56   \n",
       "2077996   545010449           1 2013-09-16 11:16:08   \n",
       "2934199   541157654           1 2015-02-18 22:16:29   \n",
       "2637216    63323676           1 2017-05-22 19:32:13   \n",
       "\n",
       "                                                 full_text  hour  minute  \n",
       "2952528  @RoyalKenyah My Strawberry will come and say i...    19      12  \n",
       "1640827  I wish I wasn't broke so I could play monster ...    12       3  \n",
       "2077996  The longest river in the world is the Nile Riv...    11      16  \n",
       "2934199                      @matthewmcvey Yea that's cool    22      16  \n",
       "2637216  RT @TeamRocket: Retweet if you find Ditto http...    19      32  "
      ]
     },
     "execution_count": 11,
     "metadata": {},
     "output_type": "execute_result"
    }
   ],
   "source": [
    "###ADDITIONAL COLUMNS: HOUR AND MINUTE\n",
    "bipolar_data['hour'] = pd.to_datetime(bipolar_data['created_at'], format='%H:%M').dt.hour\n",
    "bipolar_data['minute'] = pd.to_datetime(bipolar_data['created_at'], format='%H:%M').dt.minute\n",
    "control_data['hour'] = pd.to_datetime(control_data['created_at'], format='%H:%M').dt.hour\n",
    "control_data['minute'] = pd.to_datetime(control_data['created_at'], format='%H:%M').dt.minute\n",
    "bipolar_data.sample(5, random_state=0)\n",
    "control_data.sample(5, random_state=0)"
   ]
  },
  {
   "cell_type": "code",
   "execution_count": 12,
   "metadata": {},
   "outputs": [],
   "source": [
    "###SET DATE AS AN INDEX\n",
    "bipolar_data = bipolar_data.set_index('created_at')\n",
    "bipolar_data.sample(5, random_state=0)\n",
    "control_data = control_data.set_index('created_at')"
   ]
  },
  {
   "cell_type": "code",
   "execution_count": 13,
   "metadata": {},
   "outputs": [],
   "source": [
    "bipolar_data['hourminute'] = bipolar_data.hour + bipolar_data.minute/60\n",
    "control_data['hourminute'] = control_data.hour + control_data.minute/60"
   ]
  },
  {
   "cell_type": "code",
   "execution_count": 14,
   "metadata": {},
   "outputs": [
    {
     "data": {
      "text/plain": [
       "<matplotlib.axes._subplots.AxesSubplot at 0x1484c5668>"
      ]
     },
     "execution_count": 14,
     "metadata": {},
     "output_type": "execute_result"
    },
    {
     "data": {
      "image/png": "[encoded data removed]",
      "text/plain": [
       "<Figure size 432x288 with 1 Axes>"
      ]
     },
     "metadata": {
      "needs_background": "light"
     },
     "output_type": "display_data"
    }
   ],
   "source": [
    "bipolar_data.hourminute.hist(bins=24)"
   ]
  },
  {
   "cell_type": "code",
   "execution_count": 15,
   "metadata": {
    "scrolled": true
   },
   "outputs": [
    {
     "data": {
      "text/plain": [
       "<matplotlib.axes._subplots.AxesSubplot at 0x11fad73c8>"
      ]
     },
     "execution_count": 15,
     "metadata": {},
     "output_type": "execute_result"
    },
    {
     "data": {
      "image/png": "[encoded data removed]",
      "text/plain": [
       "<Figure size 432x288 with 1 Axes>"
      ]
     },
     "metadata": {
      "needs_background": "light"
     },
     "output_type": "display_data"
    }
   ],
   "source": [
    "control_data.hourminute.hist(bins=24)"
   ]
  },
  {
   "cell_type": "code",
   "execution_count": 16,
   "metadata": {},
   "outputs": [
    {
     "data": {
      "text/plain": [
       "17372178"
      ]
     },
     "execution_count": 16,
     "metadata": {},
     "output_type": "execute_result"
    }
   ],
   "source": [
    "bipolar_data.size"
   ]
  },
  {
   "cell_type": "code",
   "execution_count": 17,
   "metadata": {},
   "outputs": [
    {
     "data": {
      "text/plain": [
       "25809816"
      ]
     },
     "execution_count": 17,
     "metadata": {},
     "output_type": "execute_result"
    }
   ],
   "source": [
    "control_data.size"
   ]
  },
  {
   "cell_type": "code",
   "execution_count": 23,
   "metadata": {},
   "outputs": [
    {
     "data": {
      "image/png": "[encoded data removed]",
      "text/plain": [
       "<Figure size 864x648 with 1 Axes>"
      ]
     },
     "metadata": {},
     "output_type": "display_data"
    }
   ],
   "source": [
    "sns.distplot( bipolar_data['hourminute'] , color=\"skyblue\", bins = 100, label=\"Bipolar Group\")\n",
    "sns.distplot( control_data[\"hourminute\"] , color=\"yellow\", bins = 100, label=\"Control Group\", rug = True, rug_kws={\"alpha\":0.5})\n",
    "sns.set(rc={'figure.figsize':(12, 18)})\n"
   ]
  },
  {
   "cell_type": "code",
   "execution_count": 22,
   "metadata": {},
   "outputs": [
    {
     "data": {
      "text/plain": [
       "Ks_2sampResult(statistic=0.02099769021537823, pvalue=0.0)"
      ]
     },
     "execution_count": 22,
     "metadata": {},
     "output_type": "execute_result"
    }
   ],
   "source": [
    "from scipy import stats\n",
    "stats.ks_2samp(bipolar_data['hourminute'],control_data['hourminute'])"
   ]
  },
  {
   "cell_type": "code",
   "execution_count": null,
   "metadata": {},
   "outputs": [],
   "source": []
  }
 ],
 "metadata": {
  "kernelspec": {
   "display_name": "Python 3",
   "language": "python",
   "name": "python3"
  },
  "language_info": {
   "codemirror_mode": {
    "name": "ipython",
    "version": 3
   },
   "file_extension": ".py",
   "mimetype": "text/x-python",
   "name": "python",
   "nbconvert_exporter": "python",
   "pygments_lexer": "ipython3",
   "version": "3.7.3"
  }
 },
 "nbformat": 4,
 "nbformat_minor": 2
}
